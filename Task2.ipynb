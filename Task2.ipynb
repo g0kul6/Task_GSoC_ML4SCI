{
 "cells": [
  {
   "cell_type": "code",
   "execution_count": 1,
   "metadata": {},
   "outputs": [],
   "source": [
    "from fastparquet import ParquetFile\n",
    "import snappy\n",
    "import numpy as np"
   ]
  },
  {
   "cell_type": "code",
   "execution_count": 2,
   "metadata": {},
   "outputs": [
    {
     "name": "stdout",
     "output_type": "stream",
     "text": [
      "(36272, 4) (47540, 4) (55494, 4)\n"
     ]
    }
   ],
   "source": [
    "pf1 = ParquetFile('/home/g0kul6/g0kul6/ml4sci/DATA/Data_Task2/QCDToGGQQ_IMGjet_RH1all_jet0_run0_n36272.test.snappy.parquet') # filename includes .snappy.parquet extension\n",
    "pf2 = ParquetFile('/home/g0kul6/g0kul6/ml4sci/DATA/Data_Task2/QCDToGGQQ_IMGjet_RH1all_jet0_run1_n47540.test.snappy.parquet') # filename includes .snappy.parquet extension\n",
    "pf3 = ParquetFile('/home/g0kul6/g0kul6/ml4sci/DATA/Data_Task2/QCDToGGQQ_IMGjet_RH1all_jet0_run2_n55494.test.snappy.parquet') # filename includes .snappy.parquet extension\n",
    "\n",
    "data1 = np.array(pf1.to_pandas())\n",
    "data2 = np.array(pf2.to_pandas())\n",
    "data3 = np.array(pf3.to_pandas())\n",
    "\n",
    "print(np.shape(data1),np.shape(data2),np.shape(data3))\n"
   ]
  },
  {
   "cell_type": "code",
   "execution_count": 5,
   "metadata": {},
   "outputs": [
    {
     "data": {
      "text/plain": [
       "2.321408"
      ]
     },
     "execution_count": 5,
     "metadata": {},
     "output_type": "execute_result"
    }
   ],
   "source": [
    "36272/(125*125)"
   ]
  },
  {
   "cell_type": "code",
   "execution_count": null,
   "metadata": {},
   "outputs": [],
   "source": []
  }
 ],
 "metadata": {
  "interpreter": {
   "hash": "1e9e04228cc62b6d88a2d49485c7cafe926fad2c85f5988ecce6180f5d2d1170"
  },
  "kernelspec": {
   "display_name": "Python 3.9.7 ('base')",
   "language": "python",
   "name": "python3"
  },
  "language_info": {
   "codemirror_mode": {
    "name": "ipython",
    "version": 3
   },
   "file_extension": ".py",
   "mimetype": "text/x-python",
   "name": "python",
   "nbconvert_exporter": "python",
   "pygments_lexer": "ipython3",
   "version": "3.9.7"
  },
  "orig_nbformat": 4
 },
 "nbformat": 4,
 "nbformat_minor": 2
}
